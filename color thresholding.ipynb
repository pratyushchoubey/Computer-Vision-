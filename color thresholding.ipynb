{
 "cells": [
  {
   "cell_type": "code",
   "execution_count": 1,
   "metadata": {},
   "outputs": [],
   "source": [
    "from ipywidgets import interact"
   ]
  },
  {
   "cell_type": "code",
   "execution_count": 2,
   "metadata": {},
   "outputs": [
    {
     "data": {
      "application/vnd.jupyter.widget-view+json": {
       "model_id": "295b6d5f57d64bd5aaa3a667b15e86ef",
       "version_major": 2,
       "version_minor": 0
      },
      "text/plain": [
       "interactive(children=(IntSlider(value=5, description='x', max=10), IntSlider(value=5, description='y', max=10)…"
      ]
     },
     "metadata": {},
     "output_type": "display_data"
    }
   ],
   "source": [
    "@interact(x=(0,10),y=(0,10))\n",
    "def square(x,y):\n",
    "    return x*y"
   ]
  },
  {
   "cell_type": "code",
   "execution_count": 8,
   "metadata": {
    "scrolled": false
   },
   "outputs": [
    {
     "data": {
      "application/vnd.jupyter.widget-view+json": {
       "model_id": "48a27aedf6424c13a739ff2baec7fb7e",
       "version_major": 2,
       "version_minor": 0
      },
      "text/plain": [
       "interactive(children=(IntSlider(value=127, description='rl', max=255), IntSlider(value=127, description='rb', …"
      ]
     },
     "metadata": {},
     "output_type": "display_data"
    }
   ],
   "source": [
    "import cv2\n",
    "import matplotlib.pyplot as plt\n",
    "import numpy as np\n",
    "img=cv2.imread('./sample_images/ada.png')\n",
    "img=cv2.resize(img,(0,0),fx=.80,fy=.80,interpolation=cv2.INTER_CUBIC)\n",
    "img_rgb= img[:,:,::-1]\n",
    "@interact(rl=(0,255),rb=(0,255),gl=(0,255),gb=(0,255),bl=(0,255),bb=(0,255),var=(0,255))\n",
    "def extract(rl,rb,gl,gb,bl,bb,var):\n",
    "    out=cv2.inRange(img_rgb,(rl,gl,bl),(rb,gb,bb))\n",
    "    img2 = cv2.merge((out,out,out))\n",
    "    img_mask=cv2.bitwise_and(img_rgb,img2)\n",
    "    hsv=cv2.cvtColor(img_mask,cv2.COLOR_BGR2HSV)\n",
    "    h,s,v=hsv[:,:,0],hsv[:,:,1],hsv[:,:,2]\n",
    "    new_h=np.where(h>10,h+var,0)\n",
    "    new_img=cv2.merge((new_h,s,v))\n",
    "    out_new=np.where(img2==[255,255,255],new_img,img_rgb)\n",
    "    plt.imshow(np.hstack((img_rgb,img_mask,new_img,out_new)))"
   ]
  },
  {
   "cell_type": "code",
   "execution_count": null,
   "metadata": {},
   "outputs": [],
   "source": []
  }
 ],
 "metadata": {
  "kernelspec": {
   "display_name": "Python 3",
   "language": "python",
   "name": "python3"
  },
  "language_info": {
   "codemirror_mode": {
    "name": "ipython",
    "version": 3
   },
   "file_extension": ".py",
   "mimetype": "text/x-python",
   "name": "python",
   "nbconvert_exporter": "python",
   "pygments_lexer": "ipython3",
   "version": "3.7.7"
  }
 },
 "nbformat": 4,
 "nbformat_minor": 4
}
